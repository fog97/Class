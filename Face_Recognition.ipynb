{
 "cells": [
  {
   "cell_type": "markdown",
   "id": "d3c1cf96",
   "metadata": {},
   "source": [
    "# Face Recognition on Olivetti Dataset"
   ]
  },
  {
   "cell_type": "markdown",
   "id": "62f4f1da",
   "metadata": {},
   "source": [
    "I'm oging to perform face recognition, using the Olivetti Dataset I'll use some machine learning algorithsm, to associate people's names with their photos."
   ]
  },
  {
   "cell_type": "markdown",
   "id": "fadbf55c",
   "metadata": {},
   "source": [
    "Brief information about Olivetti Dataset:\n",
    "\n",
    "* There are ten different image of each of 40 distinct people, their names are encoded to integers from 0 to 39;\n",
    "* There are 400 face images in the dataset;\n",
    "* There are differences between photos, like glasses or expressions;\n",
    "* Size of each image is 64x64;\n",
    "* Image pixel values were scaled to [0, 1] interval."
   ]
  },
  {
   "cell_type": "markdown",
   "id": "fefe91c1",
   "metadata": {},
   "source": [
    "# Packages Import  \n",
    "I'm importing all  the packages I'll need during the analysis."
   ]
  },
  {
   "cell_type": "code",
   "execution_count": null,
   "id": "3ab69f19",
   "metadata": {},
   "outputs": [],
   "source": [
    "import numpy as np # linear algebra\n",
    "import pandas as pd # data processing, CSV file I/O (e.g. pd.read_csv)\n",
    "\n",
    "#Visualization\n",
    "import matplotlib.pyplot as plt\n",
    "\n",
    "#Machine Learning\n",
    "from sklearn.model_selection import train_test_split\n",
    "from sklearn.decomposition import PCA\n",
    "from sklearn.svm import SVC\n",
    "from sklearn.naive_bayes import GaussianNB\n",
    "from sklearn.neighbors import KNeighborsClassifier\n",
    "from sklearn.tree import DecisionTreeClassifier\n",
    "from sklearn.linear_model import LogisticRegression\n",
    "from sklearn.discriminant_analysis import LinearDiscriminantAnalysis\n",
    "from sklearn import metrics\n",
    "import tensorflow as tf"
   ]
  },
  {
   "cell_type": "markdown",
   "id": "953b89fe",
   "metadata": {},
   "source": [
    "# Data Import and Description  \n",
    "I'm importing all the photos with their labels and giving a brief description of the dataset."
   ]
  },
  {
   "cell_type": "code",
   "execution_count": null,
   "id": "61e9c798",
   "metadata": {},
   "outputs": [],
   "source": [
    "data=np.load(\"C:/Users/lucaf/OneDrive/Desktop/Codici/Python/Data_Recognition/olivetti_faces.npy\")\n",
    "target=np.load(\"C:/Users/lucaf/OneDrive/Desktop/Codici/Python/Data_Recognition/olivetti_faces_target.npy\")"
   ]
  },
  {
   "cell_type": "code",
   "execution_count": null,
   "id": "eff2fe39",
   "metadata": {},
   "outputs": [],
   "source": [
    "print(\"There are {} images in the dataset\".format(len(data)))\n",
    "print(\"There are {} unique targets in the dataset\".format(len(np.unique(target))))\n",
    "print(\"Size of each image is {}x{}\".format(data.shape[1],data.shape[2]))\n",
    "print(\"Pixel values were scaled to [0,1] interval. e.g:{}\".format(data[0][0,:4]))"
   ]
  },
  {
   "cell_type": "markdown",
   "id": "5f5ef4b0",
   "metadata": {},
   "source": [
    "I'm going to use a simple function to print a photo for each person in the dataset."
   ]
  },
  {
   "cell_type": "code",
   "execution_count": null,
   "id": "5f1bec0b",
   "metadata": {},
   "outputs": [],
   "source": [
    "def Photo_per_Person(images, unique_ids):\n",
    "    fig, axarr=plt.subplots(nrows=4, ncols=10, figsize=(18, 9))\n",
    "    axarr=axarr.flatten()\n",
    "    \n",
    "    for unique_id in unique_ids:\n",
    "        image_index=unique_id*10\n",
    "        axarr[unique_id].imshow(images[image_index], cmap='magma')\n",
    "        axarr[unique_id].set_xticks([])\n",
    "        axarr[unique_id].set_yticks([])\n",
    "        axarr[unique_id].set_title(\"face id:{}\".format(unique_id))\n",
    "    plt.suptitle(\"There are 40 distinct photo in the dataset\")"
   ]
  },
  {
   "cell_type": "markdown",
   "id": "1f4fa7d2",
   "metadata": {},
   "source": [
    "I decided to use the 'Magma' color set, but is just appearance real photos are in gray scale."
   ]
  },
  {
   "cell_type": "code",
   "execution_count": null,
   "id": "12188ebd",
   "metadata": {},
   "outputs": [],
   "source": [
    "Photo_per_Person(data, np.unique(target))"
   ]
  },
  {
   "cell_type": "markdown",
   "id": "2cac94a2",
   "metadata": {},
   "source": [
    "#Data Preparation  \n",
    "I'll reshape data for analysis and divide data in train and test, in particoulare I'll use 30% of the Dataset as a test set and all the remaining as train set."
   ]
  },
  {
   "cell_type": "code",
   "execution_count": null,
   "id": "64c15e96",
   "metadata": {},
   "outputs": [],
   "source": [
    "X=data.reshape((data.shape[0],data.shape[1]*data.shape[2]))"
   ]
  },
  {
   "cell_type": "code",
   "execution_count": null,
   "id": "ca3a494f",
   "metadata": {},
   "outputs": [],
   "source": [
    "X_train, X_test, y_train, y_test=train_test_split(X, target, test_size=0.3, stratify=target, random_state=0)"
   ]
  },
  {
   "cell_type": "markdown",
   "id": "cac98086",
   "metadata": {},
   "source": [
    "## PCA  \n",
    "I'll perform PCA to reduce the number of features.  \n",
    "PCA reduce the total number of components using a small number of not observed features in place of the observed ones in the dataset."
   ]
  },
  {
   "cell_type": "code",
   "execution_count": null,
   "id": "a176fa3d",
   "metadata": {
    "scrolled": true
   },
   "outputs": [],
   "source": [
    "import mglearn\n",
    "mglearn.plots.plot_pca_illustration()"
   ]
  },
  {
   "cell_type": "code",
   "execution_count": null,
   "id": "f8377a14",
   "metadata": {},
   "outputs": [],
   "source": [
    "from sklearn.decomposition import PCA\n",
    "pca=PCA(n_components=2)\n",
    "pca.fit(X)\n",
    "X_pca=pca.transform(X)"
   ]
  },
  {
   "cell_type": "markdown",
   "id": "ad4dcee0",
   "metadata": {},
   "source": [
    "Projection of the people's photo on the first two principal components."
   ]
  },
  {
   "cell_type": "code",
   "execution_count": null,
   "id": "ae10c388",
   "metadata": {},
   "outputs": [],
   "source": [
    "number_of_people=40\n",
    "index_range=number_of_people*40\n",
    "fig=plt.figure(figsize=(10,8))\n",
    "ax=fig.add_subplot(1,1,1)\n",
    "scatter=ax.scatter(X_pca[:index_range,0],\n",
    "            X_pca[:index_range,1], \n",
    "            c=target[:index_range],\n",
    "            s=10,\n",
    "           cmap=plt.get_cmap('jet', number_of_people)\n",
    "          )\n",
    "\n",
    "ax.set_xlabel(\"First Principle Component\")\n",
    "ax.set_ylabel(\"Second Principle Component\")\n",
    "ax.set_title(\"PCA projection of {} people\".format(number_of_people))\n",
    "\n",
    "fig.colorbar(scatter)"
   ]
  },
  {
   "cell_type": "markdown",
   "id": "a8169c65",
   "metadata": {},
   "source": [
    "All components created with PCA have to explain a quote of the Varance in the Features of the Dataset, I'll plot the Explained Variance and the Components number in order to select the right number.  \n",
    "There isn't a precise rule, but it's better to select the minimum number which explains the maximum possible of Variance.  \n",
    "In practice, it's better to chose the number of components in which the graphic stops falling vertically."
   ]
  },
  {
   "cell_type": "code",
   "execution_count": null,
   "id": "649aae22",
   "metadata": {},
   "outputs": [],
   "source": [
    "pca=PCA()\n",
    "pca.fit(X)\n",
    "\n",
    "plt.figure(1, figsize=(12,8))\n",
    "\n",
    "plt.plot(pca.explained_variance_, linewidth=2)\n",
    " \n",
    "plt.xlabel('Components')\n",
    "plt.ylabel('Explained Variance')\n",
    "plt.show()"
   ]
  },
  {
   "cell_type": "markdown",
   "id": "84e85c06",
   "metadata": {},
   "source": [
    "I'll take 40 Components, it's an too high number of components, in the future it's intresting to see if,and how, results change using a different number of components."
   ]
  },
  {
   "cell_type": "code",
   "execution_count": null,
   "id": "81036b9c",
   "metadata": {},
   "outputs": [],
   "source": [
    "pca=PCA(n_components=40, whiten=True)\n",
    "pca.fit(X_train)"
   ]
  },
  {
   "cell_type": "markdown",
   "id": "4da251d6",
   "metadata": {},
   "source": [
    "Using the result of the PCA I can plot the average face in the dataset, using grayscale."
   ]
  },
  {
   "cell_type": "code",
   "execution_count": null,
   "id": "56d4a6d4",
   "metadata": {},
   "outputs": [],
   "source": [
    "fig,ax=plt.subplots(1,1,figsize=(8,8))\n",
    "ax.imshow(pca.mean_.reshape((64,64)), cmap=\"gray\")\n",
    "ax.set_xticks([])\n",
    "ax.set_yticks([])\n",
    "ax.set_title('Average Face')"
   ]
  },
  {
   "cell_type": "markdown",
   "id": "b478e31a",
   "metadata": {},
   "source": [
    "Photo reconstructed using PCA data.  \n",
    "Not all of them are clear as the original version, but it's a good result."
   ]
  },
  {
   "cell_type": "code",
   "execution_count": null,
   "id": "038389cd",
   "metadata": {},
   "outputs": [],
   "source": [
    "number_of_eigenfaces=len(pca.components_)\n",
    "eigen_faces=pca.components_.reshape((number_of_eigenfaces, data.shape[1], data.shape[2]))\n",
    "\n",
    "cols=10\n",
    "rows=int(number_of_eigenfaces/cols)\n",
    "fig, axarr=plt.subplots(nrows=rows, ncols=cols, figsize=(15,15))\n",
    "axarr=axarr.flatten()\n",
    "for i in range(number_of_eigenfaces):\n",
    "    axarr[i].imshow(eigen_faces[i],cmap=\"magma\")\n",
    "    axarr[i].set_xticks([])\n",
    "    axarr[i].set_yticks([])\n",
    "    axarr[i].set_title(\"eigen id:{}\".format(i))\n",
    "plt.suptitle(\"All Eigen Faces\".format(10*\"=\", 10*\"=\"))"
   ]
  },
  {
   "cell_type": "markdown",
   "id": "f417031d",
   "metadata": {},
   "source": [
    "I transform train and test using PCA."
   ]
  },
  {
   "cell_type": "code",
   "execution_count": null,
   "id": "1054e498",
   "metadata": {},
   "outputs": [],
   "source": [
    "X_train_pca=pca.transform(X_train)\n",
    "X_test_pca=pca.transform(X_test)"
   ]
  },
  {
   "cell_type": "markdown",
   "id": "d23e7d53",
   "metadata": {},
   "source": [
    "The first model used for this classification task is an SVC, Support Vector Classification, a particoular type of SVM."
   ]
  },
  {
   "cell_type": "code",
   "execution_count": null,
   "id": "8bd2ee3e",
   "metadata": {},
   "outputs": [],
   "source": [
    "clf = SVC()\n",
    "clf.fit(X_train_pca, y_train)\n",
    "y_pred = clf.predict(X_test_pca)\n",
    "print(\"accuracy score:{:.2f}\".format(metrics.accuracy_score(y_test, y_pred)))"
   ]
  },
  {
   "cell_type": "markdown",
   "id": "1ed65f17",
   "metadata": {},
   "source": [
    "The accuracy score on the Test in 0.92, a really good results.  \n",
    "Now the plot of the confusion matrix.  \n",
    "On the main diagonal there are the well-classified images.  \n",
    "As is easy to see each person has two or three well classified photos and zero or one misclassified photo.  \n",
    "Only the person labeled as **0** has a larger amount of misclassified than well-classified photos."
   ]
  },
  {
   "cell_type": "code",
   "execution_count": 100,
   "id": "747f9f1c",
   "metadata": {},
   "outputs": [
    {
     "data": {
      "image/png": "[encoded data removed]",
      "text/plain": [
       "<Figure size 864x576 with 2 Axes>"
      ]
     },
     "metadata": {
      "needs_background": "light"
     },
     "output_type": "display_data"
    }
   ],
   "source": [
    "import seaborn as sns\n",
    "plt.figure(1, figsize=(12,8))\n",
    "p=sns.heatmap(metrics.confusion_matrix(y_test, y_pred))\n",
    "p.set_xlabel('Observed Test Photos')\n",
    "p.set_ylabel('Predicted Test Photos')\n",
    "plt.show()"
   ]
  },
  {
   "cell_type": "markdown",
   "id": "a0d40beb",
   "metadata": {},
   "source": [
    "I'm now creating a confusion matrix, the result is a huge tab not clearly readable, but performing some random controls it confirms the really good performance of the model."
   ]
  },
  {
   "cell_type": "code",
   "execution_count": 110,
   "id": "4f9896c4",
   "metadata": {},
   "outputs": [
    {
     "name": "stdout",
     "output_type": "stream",
     "text": [
      "Predicted  0   1   2   3   4   5   6   7   8   9   ...  30  31  32  33  34  \\\n",
      "Actual                                             ...                       \n",
      "0           1   0   0   0   0   0   0   0   0   0  ...   0   0   0   0   0   \n",
      "1           0   3   0   0   0   0   0   0   0   0  ...   0   0   0   0   0   \n",
      "2           0   0   2   0   0   0   0   0   0   0  ...   0   0   0   0   0   \n",
      "3           0   0   0   3   0   0   0   0   0   0  ...   0   0   0   0   0   \n",
      "4           0   0   0   0   3   0   0   0   0   0  ...   0   0   0   0   0   \n",
      "5           0   0   0   0   0   3   0   0   0   0  ...   0   0   0   0   0   \n",
      "6           0   0   0   0   0   0   3   0   0   0  ...   0   0   0   0   0   \n",
      "7           0   0   1   0   0   0   0   2   0   0  ...   0   0   0   0   0   \n",
      "8           0   0   0   0   0   0   0   0   3   0  ...   0   0   0   0   0   \n",
      "9           0   0   0   0   0   0   0   0   0   2  ...   0   0   0   0   0   \n",
      "10          0   0   0   0   0   0   0   0   0   0  ...   0   0   0   0   0   \n",
      "11          0   0   0   0   0   0   0   0   0   0  ...   0   0   0   0   0   \n",
      "12          0   0   0   0   0   0   0   0   0   0  ...   0   0   0   0   0   \n",
      "13          0   0   0   0   0   0   0   0   0   0  ...   0   0   0   0   0   \n",
      "14          0   0   0   0   0   0   0   0   0   0  ...   0   0   0   0   0   \n",
      "15          0   0   0   0   0   0   0   0   0   0  ...   0   0   0   0   0   \n",
      "16          0   0   0   0   0   0   0   0   0   0  ...   0   0   0   0   0   \n",
      "17          0   0   0   0   0   0   0   0   0   0  ...   0   0   0   0   0   \n",
      "18          0   0   0   0   0   0   0   0   0   0  ...   0   0   0   0   0   \n",
      "19          0   0   0   0   0   0   0   0   0   0  ...   0   0   0   0   0   \n",
      "20          0   0   0   0   0   0   0   0   0   0  ...   0   0   0   0   0   \n",
      "21          0   0   0   0   0   0   0   0   0   0  ...   0   0   0   0   0   \n",
      "22          0   0   0   0   0   0   0   0   0   0  ...   0   0   0   0   0   \n",
      "23          0   0   0   0   0   0   0   0   0   0  ...   0   0   0   0   0   \n",
      "24          0   0   0   0   0   0   0   0   0   0  ...   0   0   0   0   0   \n",
      "25          0   0   1   0   0   0   0   0   0   0  ...   0   0   0   0   0   \n",
      "26          0   0   0   0   0   0   0   0   0   0  ...   0   0   0   0   0   \n",
      "27          0   0   0   0   0   0   0   0   0   0  ...   0   0   0   0   0   \n",
      "28          0   0   0   0   0   0   0   0   0   0  ...   0   0   0   0   0   \n",
      "29          0   0   0   0   0   0   0   0   0   0  ...   0   0   0   0   0   \n",
      "30          0   0   0   0   0   0   0   0   0   0  ...   3   0   0   0   0   \n",
      "31          0   0   0   0   0   0   0   0   0   0  ...   0   2   0   0   0   \n",
      "32          0   0   0   0   0   0   0   0   0   0  ...   0   0   3   0   0   \n",
      "33          0   0   0   0   0   0   0   0   0   0  ...   0   0   0   3   0   \n",
      "34          0   0   0   0   0   0   0   0   0   0  ...   0   0   0   0   3   \n",
      "35          0   0   0   0   0   0   0   0   0   0  ...   0   0   0   0   0   \n",
      "36          0   0   0   0   0   0   0   0   0   0  ...   0   0   0   0   0   \n",
      "37          0   0   0   0   0   0   0   0   0   0  ...   0   0   0   0   0   \n",
      "38          0   0   0   0   0   0   0   0   0   0  ...   0   0   0   0   0   \n",
      "39          0   0   0   0   0   0   0   0   0   0  ...   0   0   0   0   0   \n",
      "\n",
      "Predicted  35  36  37  38  39  \n",
      "Actual                         \n",
      "0           0   0   0   0   1  \n",
      "1           0   0   0   0   0  \n",
      "2           0   0   0   0   0  \n",
      "3           0   0   0   0   0  \n",
      "4           0   0   0   0   0  \n",
      "5           0   0   0   0   0  \n",
      "6           0   0   0   0   0  \n",
      "7           0   0   0   0   0  \n",
      "8           0   0   0   0   0  \n",
      "9           0   0   0   0   1  \n",
      "10          0   0   0   0   0  \n",
      "11          0   0   0   0   0  \n",
      "12          0   0   0   0   0  \n",
      "13          0   0   0   0   0  \n",
      "14          0   0   0   0   0  \n",
      "15          0   0   0   0   0  \n",
      "16          0   0   0   0   0  \n",
      "17          0   0   0   0   0  \n",
      "18          0   0   0   0   0  \n",
      "19          0   0   0   0   0  \n",
      "20          0   0   0   0   0  \n",
      "21          0   0   0   1   0  \n",
      "22          0   0   0   0   0  \n",
      "23          0   0   0   0   0  \n",
      "24          0   0   0   0   0  \n",
      "25          0   0   0   0   0  \n",
      "26          0   0   0   0   0  \n",
      "27          0   0   0   0   0  \n",
      "28          0   0   0   0   0  \n",
      "29          0   0   0   0   0  \n",
      "30          0   0   0   0   0  \n",
      "31          0   0   0   0   0  \n",
      "32          0   0   0   0   0  \n",
      "33          0   0   0   0   0  \n",
      "34          0   0   0   0   0  \n",
      "35          3   0   0   0   0  \n",
      "36          0   3   0   0   0  \n",
      "37          0   0   3   0   0  \n",
      "38          0   0   0   3   0  \n",
      "39          0   0   0   0   3  \n",
      "\n",
      "[40 rows x 40 columns]\n"
     ]
    }
   ],
   "source": [
    "y_actual = pd.Series(y_test, name='Actual')\n",
    "y_predicted = pd.Series(y_pred, name='Predicted')\n",
    "df_confusion = pd.crosstab(y_actual, y_predicted)\n",
    "\n",
    "print(df_confusion)"
   ]
  },
  {
   "cell_type": "markdown",
   "id": "719ca738",
   "metadata": {},
   "source": [
    "A nex evolution of this code is the use of a neural network to perform facial recognition and compare models."
   ]
  }
 ],
 "metadata": {
  "kernelspec": {
   "display_name": "Python 3 (ipykernel)",
   "language": "python",
   "name": "python3"
  },
  "language_info": {
   "codemirror_mode": {
    "name": "ipython",
    "version": 3
   },
   "file_extension": ".py",
   "mimetype": "text/x-python",
   "name": "python",
   "nbconvert_exporter": "python",
   "pygments_lexer": "ipython3",
   "version": "3.8.8"
  }
 },
 "nbformat": 4,
 "nbformat_minor": 5
}
