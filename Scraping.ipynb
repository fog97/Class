{
 "cells": [
  {
   "cell_type": "markdown",
   "metadata": {},
   "source": [
    "# Scraping on Football Data"
   ]
  },
  {
   "cell_type": "markdown",
   "metadata": {},
   "source": [
    "I'll use a scraping tecnique in order to obtain data from the famous site Transfermarkt TM.\n",
    "In particular I'm going to download from the website a table with all the data about a specific football player's matches in a season."
   ]
  },
  {
   "cell_type": "markdown",
   "metadata": {},
   "source": [
    "### Package Import\n",
    "First of all I'm going to import all the packages I need. I'll use **Requests** and **BeautifulSoup** from **bs4** in order to perform the scraping itself, and then **Pandas** in order to manage data into Dataframes.\n"
   ]
  },
  {
   "cell_type": "code",
   "execution_count": null,
   "metadata": {},
   "outputs": [],
   "source": [
    "import requests\n",
    "from bs4 import BeautifulSoup\n",
    "import pandas as pd"
   ]
  },
  {
   "cell_type": "markdown",
   "metadata": {},
   "source": [
    "### Scraping Class"
   ]
  },
  {
   "cell_type": "markdown",
   "metadata": {},
   "source": [
    "I won't only write a script to perform scraping, but I'll use a Class, so I first create the object and then download the data."
   ]
  },
  {
   "cell_type": "markdown",
   "metadata": {},
   "source": [
    "I used some Italian words in the code, they're just variables' and functions' names."
   ]
  },
  {
   "cell_type": "code",
   "execution_count": 3,
   "metadata": {},
   "outputs": [],
   "source": [
    "class scraper():\n",
    "    def __init__(self):\n",
    "        pass\n",
    "    def url_importer(self,code):\n",
    "    #The function imports the url and prepares it to be used in scraping\n",
    "        import requests\n",
    "        from bs4 import BeautifulSoup\n",
    "        import pandas as pd\n",
    "        import numpy as np\n",
    "        headers = {'User-Agent':'Mozilla/5.0 (X11; Linux x86_64) AppleWebKit/537.36 (KHTML, like Gecko) Chrome/47.0.2526.106 Safari/537.36'}\n",
    "        URL = code\n",
    "        page = requests.get(URL,headers=headers)\n",
    "        soup = BeautifulSoup(page.content, \"html.parser\")\n",
    "        return(soup)\n",
    "    def find_tables(self,table,stopword):\n",
    "    #The Function divides the url by defined word and separates it using the same stop word in order to have the html code of each table\n",
    "    # in the page\n",
    "        results = table.find_all(stopword)\n",
    "        tabelle=str(results)\n",
    "        tabelle=tabelle.split(stopword)\n",
    "        return(tabelle)\n",
    "    def find_tabella_definitiva(self,tabella,testa):\n",
    "    #The function finds the table in which data are stored\n",
    "    #I already know I'm searching for the last table in the page, but if you need an other table you'll need to\n",
    "    #modify this part of the code\n",
    "        for el in tabella:\n",
    "            if testa in el:\n",
    "                tabella_definitiva=el\n",
    "        self.tabella_definitiva=tabella_definitiva\n",
    "    #Creation of a dataframe with all the matches played by the player\n",
    "    def dataframe_Presenze(self):\n",
    "        tabella=self.tabella_definitiva\n",
    "        tabella =BeautifulSoup(tabella)\n",
    "        dati=tabella.find_all(\"tr\", class_=\"\")\n",
    "        giornate = pd.DataFrame(columns=[\"Match_Number\",\"Date\",\"Home\",\"Away\",\"Result\",\"Role\",\"Gol\",\"Assist\",\"Owngoal\",\"Yellow card\",\"Double yellow card\",\"Red card\",\"Sub in\",\"Sub out\"])\n",
    "        for partita in dati:\n",
    "            colonne=partita.find_all(\"td\", class_=\"zentriert\")\n",
    "            prestazione=[]\n",
    "            for elemento in colonne:\n",
    "                if elemento.text!=\"\":\n",
    "                    prestazione.append(elemento.text.replace(\"\\n\",\" \").strip(\" \"))\n",
    "                    if len(prestazione)> 5:\n",
    "                        prestazione[5]=prestazione[5].replace(\"\\xa0\",\" CAPITAIN\")\n",
    "                    if len(prestazione)>13:\n",
    "                        prestazione[13]=prestazione[13].replace(\"\\xa0\",\" INJURY\")\n",
    "                elif elemento.text == \"\":\n",
    "                    squadra=str(elemento.img).split('\"')\n",
    "                    if len(squadra)>1:\n",
    "                        prestazione.append(squadra[1])\n",
    "                    else :\n",
    "                        prestazione.append(\"0\")\n",
    "    \n",
    "            prestazione=pd.Series(prestazione, index=giornate.columns)\n",
    "            giornate=giornate.append(prestazione,ignore_index=True)\n",
    "            self.giocate=giornate\n",
    "        return(giornate)\n",
    "    #Creation of a dataframe with all the matches missed by the player because of an injury\n",
    "    def dataframe_Assenze(self):\n",
    "        tabella=self.tabella_definitiva\n",
    "        tabella =BeautifulSoup(tabella)\n",
    "        dati=tabella.find_all(\"tr\", class_=\"bg_rot_20\")\n",
    "        giornate = pd.DataFrame(columns=[\"Match_Number\",\"Date\",\"Home\",\"Away\",\"Result\",\"Role\",\"Gol\",\"Assist\",\"Owngoal\",\"Yellow card\",\"Double yellow card\",\"Red card\",\"Sub in\",\"Sub out\"])\n",
    "        leftovers=[\"0\",\"0\",\"0\",\"0\",\"0\",\"0\",\"0\",\"0\"]\n",
    "        for partita in dati:\n",
    "            colonne=partita.find_all(\"td\", class_=\"zentriert\")\n",
    "            prestazione=[]\n",
    "            for elemento in colonne:\n",
    "                if elemento.text!=\"\":\n",
    "                    prestazione.append(elemento.text.replace(\"\\n\",\" \").strip(\" \"))\n",
    "                    if len(prestazione)>5:\n",
    "                        prestazione[5]=prestazione[5].replace(\"\\xa0\",\" \").strip(\" \")\n",
    "                elif elemento.text == \"\":\n",
    "                    squadra=str(elemento.img).split('\"')\n",
    "                    if len(squadra)>1:\n",
    "                        prestazione.append(squadra[1])\n",
    "            prestazione=prestazione+leftovers\n",
    "            prestazione=pd.Series(prestazione, index=giornate.columns)\n",
    "            giornate=giornate.append(prestazione,ignore_index=True)\n",
    "            self.assenze=giornate\n",
    "        return(giornate)\n",
    "    #Creation of a dataframe with all the matches missed by the player because he wasn't in the lineup\n",
    "    def dataframe_panchine(self):\n",
    "        tabella=self.tabella_definitiva\n",
    "        tabella =BeautifulSoup(tabella)\n",
    "        dati=tabella.find_all(\"tr\", class_=\"bg_gelb_20\")\n",
    "        giornate = pd.DataFrame(columns=[\"Match_Number\",\"Date\",\"Home\",\"Away\",\"Result\",\"Role\",\"Gol\",\"Assist\",\"Owngoal\",\"Yellow card\",\"Double yellow card\",\"Red card\",\"Sub in\",\"Sub out\"])\n",
    "        leftovers=[\"0\",\"0\",\"0\",\"0\",\"0\",\"0\",\"0\",\"0\"]\n",
    "        for partita in dati:\n",
    "            colonne=partita.find_all(\"td\", class_=\"zentriert\")\n",
    "            prestazione=[]\n",
    "            for elemento in colonne:\n",
    "                if elemento.text!=\"\":\n",
    "                    prestazione.append(elemento.text.replace(\"\\n\",\" \").strip(\" \"))\n",
    "                    if len(prestazione)>5:\n",
    "                        prestazione[5]=prestazione[5].replace(\"\\xa0\",\" \").strip(\" \")\n",
    "                elif elemento.text == \"\":\n",
    "                    squadra=str(elemento.img).split('\"')\n",
    "                    if len(squadra)>1:\n",
    "                        prestazione.append(squadra[1])\n",
    "            prestazione=prestazione+leftovers\n",
    "            prestazione=pd.Series(prestazione, index=giornate.columns)\n",
    "            giornate=giornate.append(prestazione,ignore_index=True)\n",
    "            self.panchine=giornate\n",
    "        return(giornate)\n",
    "    #Creation of a dataframe with all the matches in the current season \n",
    "    def Create_Stagione(self):\n",
    "        presenze=self.giocate\n",
    "        assenze=self.assenze\n",
    "        panchine=self.panchine\n",
    "        totale=presenze.append(assenze)\n",
    "        totale=totale.append(panchine)\n",
    "        totale[\"Match_Number\"] = pd.to_numeric(totale[\"Match_Number\"])\n",
    "        totale=totale.sort_values(by=\"Match_Number\",axis=0)\n",
    "        self.totale=totale\n",
    "        return(totale)\n",
    "    #Creation of a dataframe with a single line counting all the events in the season\n",
    "    def crea_totale(self):\n",
    "        Stagione=self.totale\n",
    "        numerogol=0\n",
    "        numeroassist=0\n",
    "        numeroautogol=0\n",
    "        numerogialli=0\n",
    "        numerodoppigialli=0\n",
    "        numerorossi=0\n",
    "        numeropanchine=0\n",
    "        numeroinfortuni=0\n",
    "        for index, row in Stagione.iterrows():\n",
    "            Summary=list()\n",
    "            if int(row['Gol'])>0:\n",
    "                numerogol+=int(row[\"Gol\"])\n",
    "            if int(row['Assist'])>0:\n",
    "                numerogol+=int(row[\"Assist\"])\n",
    "            if int(row['Owngoal'])>0:\n",
    "             numeroautogol+=int(row[\"Owngoal\"])\n",
    "            if row['Yellow card']!='0':\n",
    "                numerogialli+=1\n",
    "            if row['Double yellow card']!='0':\n",
    "                numerodoppigialli+=1\n",
    "                numerogialli+=1 \n",
    "            if row['Red card']!='0':\n",
    "                numerorossi+=1\n",
    "            if row['Role']=='in panchina':\n",
    "                numeropanchine+=1\n",
    "            if len(row['Role'])>len('in panchina'):\n",
    "                numeroinfortuni+=1\n",
    "            Summary.extend((numerogol,numeroassist,numeroautogol,numerogialli,numerodoppigialli,numerorossi,numeropanchine,numeroinfortuni))\n",
    "            somma = pd.DataFrame(columns=[\"Gol\",\"Assist\",\"Owngoal\",\"Yellow card\",\"Doube Yellow card\",\"Red card\",\"Bench\",\"Injury\"])\n",
    "            Summary=pd.Series(Summary, index=somma.columns)\n",
    "            somma=somma.append(Summary,ignore_index=True)\n",
    "            somma.index=['Total']\n",
    "            self.Summary=Summary\n",
    "        return(somma)\n",
    "    #Creation of a dataframe with a single line counting all the events in the season divided by the overall number of matches\n",
    "    def numeri_su_partite(self):\n",
    "        medie=list()\n",
    "        Summary=self.Summary\n",
    "        Stagione=self.totale\n",
    "        for el in Summary:\n",
    "            m=int(el)/int(max(Stagione[\"Match_Number\"]))\n",
    "            medie.append(m)\n",
    "        vettore = pd.DataFrame(columns=[\"Gol\",\"Assist\",\"Owngoal\",\"Yellow card\",\"Doube Yellow card\",\"Red card\",\"Bench\",\"Injury\"])\n",
    "        medie=pd.Series(medie, index=vettore.columns)\n",
    "        vettore=vettore.append(medie,ignore_index=True)\n",
    "        vettore.index=['Number_Matches']\n",
    "        return(vettore)\n"
   ]
  },
  {
   "cell_type": "markdown",
   "metadata": {},
   "source": [
    "## Class Using"
   ]
  },
  {
   "cell_type": "markdown",
   "metadata": {},
   "source": [
    "I'm using the class I have created to scrape some data from the website."
   ]
  },
  {
   "cell_type": "markdown",
   "metadata": {},
   "source": [
    "I'll start from calling the class object and creating a variable with the URL of the page."
   ]
  },
  {
   "cell_type": "code",
   "execution_count": 4,
   "metadata": {},
   "outputs": [],
   "source": [
    "Scrape=scraper()\n",
    "codice='https://www.transfermarkt.it/matthijs-de-ligt/leistungsdaten/spieler/326031/saison/2021/plus/1'"
   ]
  },
  {
   "cell_type": "markdown",
   "metadata": {},
   "source": [
    "Second step is searching the data's location in the code.\n",
    "I'm searching for \"Serie A\" beacuse I'm using a player from the Italian league, but you can use the code on other players from other leagues, the only problem is that the code can fail because of differences in the web page, like a different location of the data or a different number of columns. "
   ]
  },
  {
   "cell_type": "code",
   "execution_count": 5,
   "metadata": {},
   "outputs": [],
   "source": [
    "codice_pagina=Scrape.url_importer(codice)\n",
    "\n",
    "table=Scrape.find_tables(codice_pagina,\"tbody\")\n",
    "\n",
    "tabella_definitiva=Scrape.find_tabella_definitiva(table,\"serie-a\")"
   ]
  },
  {
   "cell_type": "markdown",
   "metadata": {},
   "source": [
    "I'm starting to create a dataframe with matches in which the player was on the field."
   ]
  },
  {
   "cell_type": "code",
   "execution_count": 7,
   "metadata": {},
   "outputs": [
    {
     "name": "stdout",
     "output_type": "stream",
     "text": [
      "   Match_Number         Date                 Home             Away Result  \\\n",
      "0             1  22/ago/2021       Udinese Calcio      Juventus FC    2:2   \n",
      "1             2  28/ago/2021          Juventus FC        Empoli FC    0:1   \n",
      "2             3  11/set/2021           SSC Napoli      Juventus FC    2:1   \n",
      "3             5  22/set/2021        Spezia Calcio      Juventus FC    2:3   \n",
      "4             6  26/set/2021          Juventus FC     UC Sampdoria    3:2   \n",
      "5             7  02/ott/2021            Torino FC      Juventus FC    0:1   \n",
      "6            10  27/ott/2021          Juventus FC      US Sassuolo    1:2   \n",
      "7            12  06/nov/2021          Juventus FC   ACF Fiorentina    1:0   \n",
      "8            13  20/nov/2021             SS Lazio      Juventus FC    0:2   \n",
      "9            14  27/nov/2021          Juventus FC         Atalanta    0:1   \n",
      "10           15  30/nov/2021  US Salernitana 1919      Juventus FC    0:2   \n",
      "11           16  05/dic/2021          Juventus FC        Genoa CFC    2:0   \n",
      "12           17  11/dic/2021           Venezia FC      Juventus FC    1:1   \n",
      "13           18  18/dic/2021           Bologna FC      Juventus FC    0:2   \n",
      "14           19  21/dic/2021          Juventus FC  Cagliari Calcio    2:0   \n",
      "15           20  06/gen/2022          Juventus FC       SSC Napoli    1:1   \n",
      "16           21  09/gen/2022              AS Roma      Juventus FC    3:4   \n",
      "17           22  15/gen/2022          Juventus FC   Udinese Calcio    2:0   \n",
      "18           24  06/feb/2022          Juventus FC    Hellas Verona    2:0   \n",
      "19           25  13/feb/2022             Atalanta      Juventus FC    1:1   \n",
      "\n",
      "   Role Gol Assist Owngoal Yellow card Double yellow card Red card Sub in  \\\n",
      "0    DC   0      0       0           0                  0        0      0   \n",
      "1    DC   0      0       0           0                  0        0      0   \n",
      "2    DC   0      0       0           0                  0        0    58'   \n",
      "3    DC   1      0       0           0                  0        0      0   \n",
      "4    DC   0      0       0           0                  0        0      0   \n",
      "5    DC   0      0       0           0                  0        0      0   \n",
      "6    DC   0      0       0           0                  0        0      0   \n",
      "7    DC   0      0       0           0                  0        0      0   \n",
      "8    DC   0      0       0           0                  0        0      0   \n",
      "9    DC   0      0       0           0                  0        0      0   \n",
      "10   DC   0      0       0           0                  0        0      0   \n",
      "11   DC   0      0       0           0                  0        0      0   \n",
      "12   DC   0      0       0           0                  0        0      0   \n",
      "13   DC   0      0       0           0                  0        0      0   \n",
      "14   DC   0      0       0           0                  0        0      0   \n",
      "15   DC   0      0       0           0                  0        0      0   \n",
      "16   DC   0      0       0         52'                81'        0      0   \n",
      "17   DC   0      0       0           0                  0        0      0   \n",
      "18   DC   0      0       0           0                  0        0      0   \n",
      "19   DC   0      0       0         75'                  0        0      0   \n",
      "\n",
      "   Sub out  \n",
      "0        0  \n",
      "1        0  \n",
      "2        0  \n",
      "3        0  \n",
      "4        0  \n",
      "5        0  \n",
      "6        0  \n",
      "7        0  \n",
      "8        0  \n",
      "9        0  \n",
      "10       0  \n",
      "11       0  \n",
      "12       0  \n",
      "13       0  \n",
      "14       0  \n",
      "15       0  \n",
      "16       0  \n",
      "17       0  \n",
      "18       0  \n",
      "19       0  \n"
     ]
    }
   ],
   "source": [
    "data_giocate=Scrape.dataframe_Presenze()\n",
    "print(data_giocate)"
   ]
  },
  {
   "cell_type": "markdown",
   "metadata": {},
   "source": [
    "Now I'll do the same with the matches missed due to injury."
   ]
  },
  {
   "cell_type": "code",
   "execution_count": 8,
   "metadata": {},
   "outputs": [
    {
     "name": "stdout",
     "output_type": "stream",
     "text": [
      "  Match_Number         Date         Home     Away Result  \\\n",
      "0            8  17/ott/2021  Juventus FC  AS Roma    1:0   \n",
      "\n",
      "                      Role Gol Assist Owngoal Yellow card Double yellow card  \\\n",
      "0  Problema agli adduttori   0      0       0           0                  0   \n",
      "\n",
      "  Red card Sub in Sub out  \n",
      "0        0      0       0  \n"
     ]
    }
   ],
   "source": [
    "data_assenza=Scrape.dataframe_Assenze()\n",
    "print(data_assenza)"
   ]
  },
  {
   "cell_type": "markdown",
   "metadata": {},
   "source": [
    "In the end I'll display the matches in which he wasn't sent on the field by the manager."
   ]
  },
  {
   "cell_type": "code",
   "execution_count": 9,
   "metadata": {},
   "outputs": [
    {
     "name": "stdout",
     "output_type": "stream",
     "text": [
      "  Match_Number         Date           Home         Away Result         Role  \\\n",
      "0            4  19/set/2021    Juventus FC     AC Milan    1:1  in panchina   \n",
      "1            9  24/ott/2021          Inter  Juventus FC    1:1  in panchina   \n",
      "2           11  30/ott/2021  Hellas Verona  Juventus FC    2:1  in panchina   \n",
      "3           23  23/gen/2022       AC Milan  Juventus FC    0:0  in panchina   \n",
      "\n",
      "  Gol Assist Owngoal Yellow card Double yellow card Red card Sub in Sub out  \n",
      "0   0      0       0           0                  0        0      0       0  \n",
      "1   0      0       0           0                  0        0      0       0  \n",
      "2   0      0       0           0                  0        0      0       0  \n",
      "3   0      0       0           0                  0        0      0       0  \n"
     ]
    }
   ],
   "source": [
    "data_panchine=Scrape.dataframe_panchine()\n",
    "print(data_panchine)"
   ]
  },
  {
   "cell_type": "markdown",
   "metadata": {},
   "source": [
    "The very last pice of code creates a complete dataframe, with all the matches in the current season."
   ]
  },
  {
   "cell_type": "code",
   "execution_count": 10,
   "metadata": {},
   "outputs": [
    {
     "name": "stdout",
     "output_type": "stream",
     "text": [
      "    Match_Number         Date                 Home             Away Result  \\\n",
      "0              1  22/ago/2021       Udinese Calcio      Juventus FC    2:2   \n",
      "1              2  28/ago/2021          Juventus FC        Empoli FC    0:1   \n",
      "2              3  11/set/2021           SSC Napoli      Juventus FC    2:1   \n",
      "0              4  19/set/2021          Juventus FC         AC Milan    1:1   \n",
      "3              5  22/set/2021        Spezia Calcio      Juventus FC    2:3   \n",
      "4              6  26/set/2021          Juventus FC     UC Sampdoria    3:2   \n",
      "5              7  02/ott/2021            Torino FC      Juventus FC    0:1   \n",
      "0              8  17/ott/2021          Juventus FC          AS Roma    1:0   \n",
      "1              9  24/ott/2021                Inter      Juventus FC    1:1   \n",
      "6             10  27/ott/2021          Juventus FC      US Sassuolo    1:2   \n",
      "2             11  30/ott/2021        Hellas Verona      Juventus FC    2:1   \n",
      "7             12  06/nov/2021          Juventus FC   ACF Fiorentina    1:0   \n",
      "8             13  20/nov/2021             SS Lazio      Juventus FC    0:2   \n",
      "9             14  27/nov/2021          Juventus FC         Atalanta    0:1   \n",
      "10            15  30/nov/2021  US Salernitana 1919      Juventus FC    0:2   \n",
      "11            16  05/dic/2021          Juventus FC        Genoa CFC    2:0   \n",
      "12            17  11/dic/2021           Venezia FC      Juventus FC    1:1   \n",
      "13            18  18/dic/2021           Bologna FC      Juventus FC    0:2   \n",
      "14            19  21/dic/2021          Juventus FC  Cagliari Calcio    2:0   \n",
      "15            20  06/gen/2022          Juventus FC       SSC Napoli    1:1   \n",
      "16            21  09/gen/2022              AS Roma      Juventus FC    3:4   \n",
      "17            22  15/gen/2022          Juventus FC   Udinese Calcio    2:0   \n",
      "3             23  23/gen/2022             AC Milan      Juventus FC    0:0   \n",
      "18            24  06/feb/2022          Juventus FC    Hellas Verona    2:0   \n",
      "19            25  13/feb/2022             Atalanta      Juventus FC    1:1   \n",
      "\n",
      "                       Role Gol Assist Owngoal Yellow card Double yellow card  \\\n",
      "0                        DC   0      0       0           0                  0   \n",
      "1                        DC   0      0       0           0                  0   \n",
      "2                        DC   0      0       0           0                  0   \n",
      "0               in panchina   0      0       0           0                  0   \n",
      "3                        DC   1      0       0           0                  0   \n",
      "4                        DC   0      0       0           0                  0   \n",
      "5                        DC   0      0       0           0                  0   \n",
      "0   Problema agli adduttori   0      0       0           0                  0   \n",
      "1               in panchina   0      0       0           0                  0   \n",
      "6                        DC   0      0       0           0                  0   \n",
      "2               in panchina   0      0       0           0                  0   \n",
      "7                        DC   0      0       0           0                  0   \n",
      "8                        DC   0      0       0           0                  0   \n",
      "9                        DC   0      0       0           0                  0   \n",
      "10                       DC   0      0       0           0                  0   \n",
      "11                       DC   0      0       0           0                  0   \n",
      "12                       DC   0      0       0           0                  0   \n",
      "13                       DC   0      0       0           0                  0   \n",
      "14                       DC   0      0       0           0                  0   \n",
      "15                       DC   0      0       0           0                  0   \n",
      "16                       DC   0      0       0         52'                81'   \n",
      "17                       DC   0      0       0           0                  0   \n",
      "3               in panchina   0      0       0           0                  0   \n",
      "18                       DC   0      0       0           0                  0   \n",
      "19                       DC   0      0       0         75'                  0   \n",
      "\n",
      "   Red card Sub in Sub out  \n",
      "0         0      0       0  \n",
      "1         0      0       0  \n",
      "2         0    58'       0  \n",
      "0         0      0       0  \n",
      "3         0      0       0  \n",
      "4         0      0       0  \n",
      "5         0      0       0  \n",
      "0         0      0       0  \n",
      "1         0      0       0  \n",
      "6         0      0       0  \n",
      "2         0      0       0  \n",
      "7         0      0       0  \n",
      "8         0      0       0  \n",
      "9         0      0       0  \n",
      "10        0      0       0  \n",
      "11        0      0       0  \n",
      "12        0      0       0  \n",
      "13        0      0       0  \n",
      "14        0      0       0  \n",
      "15        0      0       0  \n",
      "16        0      0       0  \n",
      "17        0      0       0  \n",
      "3         0      0       0  \n",
      "18        0      0       0  \n",
      "19        0      0       0  \n"
     ]
    }
   ],
   "source": [
    "stagione=Scrape.Create_Stagione()\n",
    "print(stagione)"
   ]
  },
  {
   "cell_type": "markdown",
   "metadata": {},
   "source": [
    "Now I'll use two functions:  \n",
    "    1) To create a sigle-line dataframe with the sum of all statistics of the player;  \n",
    "    2) To divide the sum of the statistics over the overall number of matches in the season so far."
   ]
  },
  {
   "cell_type": "code",
   "execution_count": 11,
   "metadata": {},
   "outputs": [
    {
     "name": "stdout",
     "output_type": "stream",
     "text": [
      "      Gol Assist Owngoal Yellow card Doube Yellow card Red card Bench Injury\n",
      "Total   1      0       0           3                 1        0     4      1\n"
     ]
    }
   ],
   "source": [
    "tot=Scrape.crea_totale()\n",
    "print(tot)"
   ]
  },
  {
   "cell_type": "code",
   "execution_count": 13,
   "metadata": {},
   "outputs": [
    {
     "name": "stdout",
     "output_type": "stream",
     "text": [
      "                 Gol  Assist  Owngoal  Yellow card  Doube Yellow card  \\\n",
      "Number_Matches  0.04     0.0      0.0         0.12               0.04   \n",
      "\n",
      "                Red card  Bench  Injury  \n",
      "Number_Matches       0.0   0.16    0.04  \n"
     ]
    }
   ],
   "source": [
    "div=Scrape.numeri_su_partite()\n",
    "print(div)"
   ]
  },
  {
   "cell_type": "markdown",
   "metadata": {},
   "source": [
    "I used some functions, but I didn't need to pass arguments to many of them, that's because in the object I used Inheritance so this variables,data and dataframe could pass from a function to the succeding, in this way the class is much easier to use.  "
   ]
  },
  {
   "cell_type": "markdown",
   "metadata": {},
   "source": [
    "As you may have noticed some functions didn't require an argument: that's due to Inheritance.  \n",
    "It allows to pass data,variables and entitis through functions belonging to the same object, in this way my class can work without asking for parameters to the user when not needed."
   ]
  }
 ],
 "metadata": {
  "interpreter": {
   "hash": "868fb9a5cc91048dfd62a906c907ef96a46d049dc5463c006ef1935a643f5e10"
  },
  "kernelspec": {
   "display_name": "Python 3.8.8 ('base')",
   "language": "python",
   "name": "python3"
  },
  "language_info": {
   "codemirror_mode": {
    "name": "ipython",
    "version": 3
   },
   "file_extension": ".py",
   "mimetype": "text/x-python",
   "name": "python",
   "nbconvert_exporter": "python",
   "pygments_lexer": "ipython3",
   "version": "3.7.10"
  },
  "orig_nbformat": 4
 },
 "nbformat": 4,
 "nbformat_minor": 2
}
